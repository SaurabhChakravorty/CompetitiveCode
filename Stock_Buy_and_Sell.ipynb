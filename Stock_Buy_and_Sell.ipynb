{
 "cells": [
  {
   "cell_type": "markdown",
   "metadata": {},
   "source": [
    "Stock buy and sell\n",
    "Trading with maximum profit problem\n",
    "#Problem Statement\n",
    "The cost of stock on each day is given in an array A[] of size N. Find all the days on which you buy and sell the stock so that in between those days your profit is maximum."
   ]
  },
  {
   "cell_type": "code",
   "execution_count": 42,
   "metadata": {},
   "outputs": [],
   "source": [
    "def max_profit(array):\n",
    "    '''\n",
    "    Function to get buy and sell values for profit\n",
    "    \n",
    "    '''\n",
    "    #Array to store buy and sell\n",
    "    buy = []\n",
    "    sell = []\n",
    "    \n",
    "    flag = 0       # Indicator for buying stocks\n",
    "    i = 0          # refrence for looping in list\n",
    "    # Loop  for getting values\n",
    "    for i in range(len(array)):\n",
    "       \n",
    "        if flag == 0:                      # Indicator to buy stock\n",
    "\n",
    "            if array[i + 1] > array[i]:    # Finding the global minima for buying as buying is always less than selling\n",
    "\n",
    "                buy.append(i)       # Buy the stock if less than previous value\n",
    "\n",
    "                flag = 1\n",
    "        \n",
    "        elif i == len(array) - 1:         # Checking for last point\n",
    "            \n",
    "             sell.append(i)\n",
    "                \n",
    "\n",
    "        elif array[i + 1] < array[i]:     # Finding the global maxima for selling as selling is always more than buying\n",
    "\n",
    "                sell.append(i)     # Sell the stock if more than previous value\n",
    "                \n",
    "                flag = 0                  # Set the flag to buy again\n",
    "\n",
    "            \n",
    "    #print(buy,sell)    \n",
    "    days = [(buy[i],sell[i]) for i in range(len(buy))]\n",
    "    \n",
    "    print(\"The days to buy and sell it are :\")\n",
    "    print(*days)"
   ]
  },
  {
   "cell_type": "code",
   "execution_count": 43,
   "metadata": {},
   "outputs": [
    {
     "name": "stdout",
     "output_type": "stream",
     "text": [
      "The days to buy and sell it are :\n",
      "(1, 4) (5, 9)\n"
     ]
    }
   ],
   "source": [
    "array = [23 ,13 ,25 ,29 ,33 ,19 ,34, 45, 65, 67]\n",
    "max_profit(array)"
   ]
  },
  {
   "cell_type": "code",
   "execution_count": null,
   "metadata": {},
   "outputs": [],
   "source": []
  }
 ],
 "metadata": {
  "kernelspec": {
   "display_name": "Python 3",
   "language": "python",
   "name": "python3"
  },
  "language_info": {
   "codemirror_mode": {
    "name": "ipython",
    "version": 3
   },
   "file_extension": ".py",
   "mimetype": "text/x-python",
   "name": "python",
   "nbconvert_exporter": "python",
   "pygments_lexer": "ipython3",
   "version": "3.7.3"
  }
 },
 "nbformat": 4,
 "nbformat_minor": 2
}
