{
 "cells": [
  {
   "cell_type": "markdown",
   "metadata": {},
   "source": [
    "Distributing Sweet problem\n",
    "No person can get more than 2 sweets in this problem out of all available sweets"
   ]
  },
  {
   "cell_type": "code",
   "execution_count": null,
   "metadata": {},
   "outputs": [],
   "source": [
    "# Python3 program for above implementation  \n",
    "from collections import defaultdict # FOrmaking dictionary default\n",
    "\n",
    "def check_count(arr,k):\n",
    "    '''\n",
    "    \n",
    "    Gives values based on distribution logic used here is if the number of person sweet has to be distributed \n",
    "    It should be less than 2k\n",
    "    \n",
    "    '''\n",
    "    mp = defaultdict(lambda:0) # Initialise dict with 0 values\n",
    "    \n",
    "    for i in range(len(arr)): \n",
    "        mp[arr[i]] += 1        # For storing values and their counts\n",
    "        \n",
    "      # Check for each value in hash \n",
    "    for key, values in mp.items(): \n",
    "        if values > 2 * k: \n",
    "            return False\n",
    "    return True"
   ]
  },
  {
   "cell_type": "code",
   "execution_count": null,
   "metadata": {},
   "outputs": [],
   "source": [
    "arr = [1,5,3,4,8,6,3,4]\n",
    "if check_count(arr,k) == True: \n",
    "    print(\"Yes\") \n",
    "else: \n",
    "    print(\"No\")"
   ]
  }
 ],
 "metadata": {
  "kernelspec": {
   "display_name": "Python 3",
   "language": "python",
   "name": "python3"
  },
  "language_info": {
   "codemirror_mode": {
    "name": "ipython",
    "version": 3
   },
   "file_extension": ".py",
   "mimetype": "text/x-python",
   "name": "python",
   "nbconvert_exporter": "python",
   "pygments_lexer": "ipython3",
   "version": "3.7.3"
  }
 },
 "nbformat": 4,
 "nbformat_minor": 2
}
