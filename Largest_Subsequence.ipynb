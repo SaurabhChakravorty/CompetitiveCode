{
 "cells": [
  {
   "cell_type": "code",
   "execution_count": 50,
   "metadata": {},
   "outputs": [],
   "source": [
    "import numpy as np\n",
    "\n",
    "def largest_subsequence(l):\n",
    "     '''\n",
    "     Takes the list and finds the largest occuring subsequence in the whole list\n",
    "    \n",
    "     '''\n",
    "     # Let's sort the list first to get it in ascending order\n",
    "        \n",
    "     l = np.sort(l)\n",
    "    \n",
    "     print(l)\n",
    "     \n",
    "     i,j = 0,0               # Initialised var for operation in array\n",
    "     \n",
    "     length = 0              # variable for getting lenght of highest subsequence\n",
    "                  \n",
    "     sub_list = []           # For getting subsequent list elements\n",
    "    \n",
    "     temp = l[j]             # For initialising the element from first\n",
    "        \n",
    "     sub_list.append(l[j])   # Let's start and append first statement\n",
    "        \n",
    "     while j < len(l) - 1:\n",
    "        \n",
    "        #sub_list.append(temp)   # Append in sublist\n",
    "        \n",
    "        if i <  len(l):\n",
    "               \n",
    "           i = i + 1             # Increment the operator \n",
    "                        \n",
    "           next_element = l[i]\n",
    "        \n",
    "        else:\n",
    "            \n",
    "            break\n",
    "           \n",
    "        \n",
    "        if temp  ==   next_element - 1:         # Checking for the next element for increment \n",
    "             \n",
    "                sub_list.append(next_element)   # If matches then append\n",
    "                \n",
    "                temp = next_element             # For initialising the element from first\n",
    "                \n",
    "                continue\n",
    "                \n",
    "        else:  \n",
    "                max_len = len(sub_list)    # Terminate and initialize and moved forward\n",
    "                \n",
    "                #print(sub_list)\n",
    "                if max_len > length :\n",
    "\n",
    "                        length = max_len   # reiterate the max lenght of array\n",
    "                        \n",
    "                j = i                      # Intialize it again\n",
    "                \n",
    "                temp  = l[j]               # For initialising the element from first again\n",
    "                     \n",
    "                sub_list = []              # Initialize the sublist\n",
    "                \n",
    "                sub_list.append(l[j])      # Let's start and append first statement\n",
    "\n",
    "        \n",
    "     #print(*sub_list, sep = \"\\n\")\n",
    "    \n",
    "    \n",
    "     print(\"The highest length of subsequence is %d\"%length)"
   ]
  },
  {
   "cell_type": "code",
   "execution_count": 52,
   "metadata": {},
   "outputs": [
    {
     "name": "stdout",
     "output_type": "stream",
     "text": [
      "[ 1  2  3  4  9 10 20]\n",
      "The highest length of subsequence is 4\n"
     ]
    }
   ],
   "source": [
    "l = [1, 9, 3, 10, 4, 20, 2]\n",
    "largest_subsequence(l)"
   ]
  }
 ],
 "metadata": {
  "kernelspec": {
   "display_name": "Python 3",
   "language": "python",
   "name": "python3"
  },
  "language_info": {
   "codemirror_mode": {
    "name": "ipython",
    "version": 3
   },
   "file_extension": ".py",
   "mimetype": "text/x-python",
   "name": "python",
   "nbconvert_exporter": "python",
   "pygments_lexer": "ipython3",
   "version": "3.7.3"
  }
 },
 "nbformat": 4,
 "nbformat_minor": 2
}
