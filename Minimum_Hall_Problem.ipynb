{
 "cells": [
  {
   "cell_type": "code",
   "execution_count": 15,
   "metadata": {},
   "outputs": [
    {
     "name": "stdout",
     "output_type": "stream",
     "text": [
      "The maximum number of halls required are : 2\n"
     ]
    }
   ],
   "source": [
    "def minimum_hall(l):\n",
    "    #Takes the list as input to find minimum number of halls present and gives the halls\n",
    "    \n",
    "    d = 0 # for storing the maximum difference in class duration\n",
    "    \n",
    "    index = 0  # for getting the inde of maximum class duration\n",
    "    \n",
    "    halls = 1 # for getting maximum number of halls for having the class\n",
    "    for i in range(len(l)):\n",
    "        \n",
    "        diff = l[i][1] - l[i][0]  # find the diffrence between each class interval\n",
    "        \n",
    "        if diff > d : # if the difference is more than storethe aim is to get max. class interval duration\n",
    "            \n",
    "             d = diff  # assigned it to the operator\n",
    "                   \n",
    "             index  = i # index marked\n",
    "\n",
    "    max_class = l[index] # Storing the class with max duration\n",
    "       \n",
    "    l.remove(l[i]) # The element is removed from list    \n",
    "\n",
    "    for i in range(len(l)):\n",
    "        \n",
    "        if l[i][1] <  max_class[1]: # find the last time of each class duration\n",
    "               \n",
    "                    halls = halls + 1\n",
    "     \n",
    "    print(\"The maximum number of halls required are : %d\"%halls)\n",
    "\n",
    "    \n",
    "# Let's check the answer\n",
    "l = [ [13, 15], [11, 13], [4, 7], [2, 4], [3, 6] ]\n",
    "minimum_hall(l)\n"
   ]
  }
 ],
 "metadata": {
  "kernelspec": {
   "display_name": "Python 3",
   "language": "python",
   "name": "python3"
  },
  "language_info": {
   "codemirror_mode": {
    "name": "ipython",
    "version": 3
   },
   "file_extension": ".py",
   "mimetype": "text/x-python",
   "name": "python",
   "nbconvert_exporter": "python",
   "pygments_lexer": "ipython3",
   "version": "3.7.3"
  }
 },
 "nbformat": 4,
 "nbformat_minor": 2
}
