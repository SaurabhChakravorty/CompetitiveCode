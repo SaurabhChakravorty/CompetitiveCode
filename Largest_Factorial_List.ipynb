{
 "cells": [
  {
   "cell_type": "code",
   "execution_count": 2,
   "metadata": {},
   "outputs": [],
   "source": [
    "def factorial(n):\n",
    "    '''\n",
    "    Gives factorial of a number by recursion\n",
    "    \n",
    "    '''\n",
    "    if n == 0:\n",
    "        return 1\n",
    "    elif n == 1:\n",
    "        return 1\n",
    "    else:\n",
    "        return n * factorial(n-1)\n",
    "    "
   ]
  },
  {
   "cell_type": "code",
   "execution_count": 5,
   "metadata": {},
   "outputs": [],
   "source": [
    "def max_factorial(l):\n",
    "    '''\n",
    "    Finds max factorial of a list from number\n",
    "    \n",
    "    The logic used here is to find the largest two numbers in the list and then permute\n",
    "    \n",
    "    '''\n",
    "    \n",
    "    # Let's find largest number in list from the values\n",
    "    \n",
    "    large = 0\n",
    "    \n",
    "    for i  in range(len(l)):\n",
    "         if l[i] > large:\n",
    "                \n",
    "                large = l[i]\n",
    "                \n",
    "    # Let's find the second largest number in list from the values\n",
    "    \n",
    "    second_large = 0\n",
    "    \n",
    "    for i in range(len(l)):\n",
    "        \n",
    "         if l[i] > second_large and l[i] < large:\n",
    "                \n",
    "                second_large = l[i]\n",
    "                \n",
    "    print(\"The factorial is %d\"%(factorial(large) / factorial(large - second_large)))\n",
    "    \n",
    "    print(\"The n and r values are %d, %d\"%(large,second_large))"
   ]
  },
  {
   "cell_type": "code",
   "execution_count": 18,
   "metadata": {},
   "outputs": [],
   "source": [
    "def max_combination(l):\n",
    "    '''\n",
    "    Finds max combination of a list from number\n",
    "    \n",
    "    The logic used here is to find the largest two numbers in the list and then permute\n",
    "    \n",
    "    '''\n",
    "    \n",
    "    # Let's find largest number in list from the values\n",
    "    \n",
    "    large = 0\n",
    "    \n",
    "    for i  in range(len(l)):\n",
    "        \n",
    "         if l[i] > large:\n",
    "                \n",
    "                large = l[i]\n",
    "                \n",
    "                \n",
    "    # Let's find the r value  in list from the values\n",
    "    \n",
    "    max_combination = factorial(100)  # used for maximising the value for finding the minimal optimum\n",
    "    \n",
    "    for i in range(len(l)):\n",
    "        \n",
    "         combination = factorial(l[i]) * factorial(large - l[i])   # finding the factorial for min product\n",
    "        \n",
    "         if combination < max_combination:\n",
    "                \n",
    "                max_combination = combination  # If less then assign the value\n",
    "                \n",
    "                r = l[i]                       # For assigning the r value\n",
    "                 \n",
    "    print(\"The factorial is %d\"%(factorial(large) / (factorial(r) * factorial(large - r))))\n",
    "    \n",
    "    print(\"The n and r values are %d, %d\"%(large,r))"
   ]
  },
  {
   "cell_type": "code",
   "execution_count": 20,
   "metadata": {},
   "outputs": [
    {
     "name": "stdout",
     "output_type": "stream",
     "text": [
      "The factorial is 126\n",
      "The n and r values are 9, 4\n"
     ]
    }
   ],
   "source": [
    "l = [0, 2, 3, 4, 1, 6, 8, 9]\n",
    "\n",
    "max_combination(l)"
   ]
  },
  {
   "cell_type": "code",
   "execution_count": null,
   "metadata": {},
   "outputs": [],
   "source": []
  }
 ],
 "metadata": {
  "kernelspec": {
   "display_name": "Python 3",
   "language": "python",
   "name": "python3"
  },
  "language_info": {
   "codemirror_mode": {
    "name": "ipython",
    "version": 3
   },
   "file_extension": ".py",
   "mimetype": "text/x-python",
   "name": "python",
   "nbconvert_exporter": "python",
   "pygments_lexer": "ipython3",
   "version": "3.7.3"
  }
 },
 "nbformat": 4,
 "nbformat_minor": 2
}
